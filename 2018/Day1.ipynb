{
 "cells": [
  {
   "cell_type": "markdown",
   "metadata": {},
   "source": [
    "# Day 1: Chronal Calibration\n",
    "\n",
    "> We've detected some temporal anomalies,\n",
    "\n",
    "one of Santa's Elves at the Temporal Anomaly Research and Detection Instrument Station tells you. She sounded pretty worried when she called you down here. \n",
    "> At 500-year intervals into the past, someone has been changing Santa's history!\n",
    "\n",
    "> The good news is that the changes won't propagate to our time stream for another 25 days, and we have a device\n",
    "\n",
    "*she attaches something to your wrist*\n",
    "\n",
    "> that will let you fix the changes with no such propagation delay. It's configured to send you 500 years further into the past every few days; that was the best we could do on such short notice.\n",
    "\n",
    "> The bad news is that we are detecting roughly fifty anomalies throughout time; the device will indicate fixed anomalies with stars. The other bad news is that we only have one device and you're the best person for the job! Good lu-- \n",
    "\n",
    "She taps a button on the device and you suddenly feel like you're falling. To save Christmas, you need to get all fifty stars by December 25th.\n",
    "\n",
    "`Collect stars by solving puzzles. Two puzzles will be made available on each day in the advent calendar; the second puzzle is unlocked when you complete the first. Each puzzle grants one star. Good luck!`\n",
    "\n",
    "After feeling like you've been falling for a few minutes, you look at the device's tiny screen. \n",
    "\n",
    "> Error: Device must be calibrated before first use. Frequency drift detected. Cannot maintain destination lock.\n",
    "\n",
    "Below the message, the device shows a sequence of changes in frequency (your puzzle input). A value like +6 means the current frequency increases by 6; a value like -3 means the current frequency decreases by 3.\n",
    "\n",
    "For example, if the device displays frequency changes of +1, -2, +3, +1, then starting from a frequency of zero, the following changes would occur:\n",
    "\n",
    "Current frequency  `0`, change of `+1`; resulting frequency  `1`.\n",
    "Current frequency  `1`, change of `-2`; resulting frequency `-1`.\n",
    "Current frequency `-1`, change of `+3`; resulting frequency  `2`.\n",
    "Current frequency  `2`, change of `+1`; resulting frequency  `3`.\n",
    "In this example, the resulting frequency is `3`.\n",
    "\n",
    "Here are other example situations:\n",
    "\n",
    "`+1`, `+1`, `+1` results in  `3`\n",
    "`+1`, `+1`, `-2` results in  `0`\n",
    "`-1`, `-2`, `-3` results in `-6`\n",
    "Starting with a frequency of zero, what is the resulting frequency after all of the changes in frequency have been applied?\n",
    "\n",
    "---"
   ]
  },
  {
   "cell_type": "markdown",
   "metadata": {},
   "source": [
    "Let's load the data. We'll read it line by line, strip all whitespace characters and convert it to integers. This automatically gets rid of `+` characters and includes `-` characters."
   ]
  },
  {
   "cell_type": "code",
   "execution_count": 1,
   "metadata": {},
   "outputs": [],
   "source": [
    "with open(\"day1.txt\") as f:\n",
    "    content = f.readlines()\n",
    "content = [int(x.strip()) for x in content] "
   ]
  },
  {
   "cell_type": "code",
   "execution_count": 2,
   "metadata": {},
   "outputs": [
    {
     "data": {
      "text/plain": [
       "500"
      ]
     },
     "execution_count": 2,
     "metadata": {},
     "output_type": "execute_result"
    }
   ],
   "source": [
    "sum(content)"
   ]
  },
  {
   "cell_type": "markdown",
   "metadata": {},
   "source": [
    "---\n",
    "## Part Two \n",
    "You notice that the device repeats the same frequency change list over and over. To calibrate the device, you need to find the first frequency it reaches twice.\n",
    "\n",
    "For example, using the same list of changes above, the device would loop as follows:\n",
    "\n",
    "\n",
    "Current frequency  `0`, change of `+1`; resulting frequency  `1`.\n",
    "\n",
    "Current frequency  `1`, change of `-2`; resulting frequency `-1`.\n",
    "\n",
    "Current frequency `-1`, change of `+3`; resulting frequency  `2`.\n",
    "\n",
    "Current frequency  `2`, change of `+1`; resulting frequency  `3`.\n",
    "\n",
    "(At this point, the device continues from the start of the list.)\n",
    "\n",
    "Current frequency  `3`, change of `+1`; resulting frequency  `4`.\n",
    "\n",
    "Current frequency  `4`, change of `-2`; resulting frequency  `2`, which has already been seen.\n",
    "\n",
    "In this example, the first frequency reached twice is 2. Note that your device might need to repeat its list of frequency changes many times before a duplicate frequency is found, and that duplicates might be found while in the middle of processing the list.\n",
    "\n",
    "Here are other examples:\n",
    "\n",
    "\n",
    "`+1`, `-1` first reaches `0` twice.\n",
    "\n",
    "`+3`, `+3`, `+4`, `-2`, `-4` first reaches `10` twice.\n",
    "\n",
    "`-6`, `+3`, `+8`, `+5`, `-6` first reaches `5` twice.\n",
    "\n",
    "`+7`, `+7`, `-2`, `-7`, `-4` first reaches `14` twice.\n",
    "\n",
    "What is the first frequency your device reaches twice?\n",
    "\n",
    "---"
   ]
  },
  {
   "cell_type": "markdown",
   "metadata": {},
   "source": [
    "To iterate through the list continuously, we'll use a while list.\n",
    "\n",
    "Using a set saves us **a lot** of computation time. So we are definitely going for that."
   ]
  },
  {
   "cell_type": "code",
   "execution_count": 3,
   "metadata": {
    "collapsed": true
   },
   "outputs": [],
   "source": [
    "visited = set([0])\n",
    "value = 0\n",
    "q = True\n",
    "while q == True:\n",
    "    for x in content:\n",
    "        value += x\n",
    "        if value in visited:\n",
    "            out_value = value\n",
    "            out_visited = visited\n",
    "            q = False\n",
    "            break\n",
    "        visited.add(value)"
   ]
  },
  {
   "cell_type": "code",
   "execution_count": 4,
   "metadata": {},
   "outputs": [
    {
     "data": {
      "text/plain": [
       "709"
      ]
     },
     "execution_count": 4,
     "metadata": {},
     "output_type": "execute_result"
    }
   ],
   "source": [
    "out_value"
   ]
  },
  {
   "cell_type": "code",
   "execution_count": null,
   "metadata": {
    "collapsed": true
   },
   "outputs": [],
   "source": []
  }
 ],
 "metadata": {
  "kernelspec": {
   "display_name": "Python 3",
   "language": "python",
   "name": "python3"
  },
  "language_info": {
   "codemirror_mode": {
    "name": "ipython",
    "version": 3
   },
   "file_extension": ".py",
   "mimetype": "text/x-python",
   "name": "python",
   "nbconvert_exporter": "python",
   "pygments_lexer": "ipython3",
   "version": "3.6.1"
  }
 },
 "nbformat": 4,
 "nbformat_minor": 2
}
